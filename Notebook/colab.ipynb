{
  "nbformat": 4,
  "nbformat_minor": 0,
  "metadata": {
    "accelerator": "GPU",
    "colab": {
      "name": "Copia di Multiclass_Segmentation.ipynb",
      "provenance": [],
      "collapsed_sections": [],
      "machine_shape": "hm",
      "include_colab_link": true
    },
    "kernelspec": {
      "display_name": "Python 3",
      "language": "python",
      "name": "python3"
    },
    "language_info": {
      "codemirror_mode": {
        "name": "ipython",
        "version": 3
      },
      "file_extension": ".py",
      "mimetype": "text/x-python",
      "name": "python",
      "nbconvert_exporter": "python",
      "pygments_lexer": "ipython3",
      "version": "3.7.9"
    }
  },
  "cells": [
    {
      "cell_type": "markdown",
      "metadata": {
        "id": "view-in-github",
        "colab_type": "text"
      },
      "source": [
        "<a href=\"https://colab.research.google.com/github/tizianofucci/A2NDLVisualQuestionAnswering/blob/master/Notebook/colab.ipynb\" target=\"_parent\"><img src=\"https://colab.research.google.com/assets/colab-badge.svg\" alt=\"Open In Colab\"/></a>"
      ]
    },
    {
      "cell_type": "code",
      "metadata": {
        "id": "I5FnwOggnFIl"
      },
      "source": [
        "from IPython.core.interactiveshell import InteractiveShell\n",
        "InteractiveShell.ast_node_interactivity = \"all\""
      ],
      "execution_count": 116,
      "outputs": []
    },
    {
      "cell_type": "code",
      "metadata": {
        "id": "tOBDSA9BnFIx"
      },
      "source": [
        "import os\n",
        "\n",
        "# os.environ[\"CUDA_VISIBLE_DEVICES\"]=\"-1\" \n",
        "import tensorflow as tf\n",
        "import numpy as np\n",
        "\n",
        "# Set the seed for random operations. \n",
        "# This let our experiments to be reproducible. \n",
        "SEED = 1234\n",
        "tf.random.set_seed(SEED)  "
      ],
      "execution_count": 117,
      "outputs": []
    },
    {
      "cell_type": "code",
      "metadata": {
        "id": "bns18Nm7oORk"
      },
      "source": [
        "cwd = os.getcwd()"
      ],
      "execution_count": 118,
      "outputs": []
    },
    {
      "cell_type": "code",
      "metadata": {
        "colab": {
          "base_uri": "https://localhost:8080/"
        },
        "id": "x8SjScpRLJH9",
        "outputId": "3c3f74d6-82ea-47d4-f758-1b0e77c192b9"
      },
      "source": [
        "# Colab Pro\r\n",
        "gpu_info = !nvidia-smi\r\n",
        "gpu_info = '\\n'.join(gpu_info)\r\n",
        "if gpu_info.find('failed') >= 0:\r\n",
        "  print('Select the Runtime > \"Change runtime type\" menu to enable a GPU accelerator, ')\r\n",
        "  print('and then re-execute this cell.')\r\n",
        "else:\r\n",
        "  print(gpu_info)\r\n",
        "\r\n",
        "from psutil import virtual_memory\r\n",
        "ram_gb = virtual_memory().total / 1e9\r\n",
        "print('Your runtime has {:.1f} gigabytes of available RAM\\n'.format(ram_gb))\r\n",
        "\r\n",
        "if ram_gb < 20:\r\n",
        "  print('To enable a high-RAM runtime, select the Runtime > \"Change runtime type\"')\r\n",
        "  print('menu, and then select High-RAM in the Runtime shape dropdown. Then, ')\r\n",
        "  print('re-execute this cell.')\r\n",
        "else:\r\n",
        "  print('You are using a high-RAM runtime!')"
      ],
      "execution_count": 119,
      "outputs": [
        {
          "output_type": "stream",
          "text": [
            "Sat Jan  9 16:41:46 2021       \n",
            "+-----------------------------------------------------------------------------+\n",
            "| NVIDIA-SMI 460.27.04    Driver Version: 418.67       CUDA Version: 10.1     |\n",
            "|-------------------------------+----------------------+----------------------+\n",
            "| GPU  Name        Persistence-M| Bus-Id        Disp.A | Volatile Uncorr. ECC |\n",
            "| Fan  Temp  Perf  Pwr:Usage/Cap|         Memory-Usage | GPU-Util  Compute M. |\n",
            "|                               |                      |               MIG M. |\n",
            "|===============================+======================+======================|\n",
            "|   0  Tesla V100-SXM2...  Off  | 00000000:00:04.0 Off |                    0 |\n",
            "| N/A   37C    P0    40W / 300W |   1477MiB / 16130MiB |      0%      Default |\n",
            "|                               |                      |                 ERR! |\n",
            "+-------------------------------+----------------------+----------------------+\n",
            "                                                                               \n",
            "+-----------------------------------------------------------------------------+\n",
            "| Processes:                                                                  |\n",
            "|  GPU   GI   CI        PID   Type   Process name                  GPU Memory |\n",
            "|        ID   ID                                                   Usage      |\n",
            "|=============================================================================|\n",
            "|  No running processes found                                                 |\n",
            "+-----------------------------------------------------------------------------+\n",
            "Your runtime has 27.4 gigabytes of available RAM\n",
            "\n",
            "You are using a high-RAM runtime!\n"
          ],
          "name": "stdout"
        }
      ]
    },
    {
      "cell_type": "code",
      "metadata": {
        "id": "xWjtWQInwJon"
      },
      "source": [
        "labels_dict  = {\r\n",
        "        '0': 0,\r\n",
        "        '1': 1,\r\n",
        "        '2': 2,\r\n",
        "        '3': 3,\r\n",
        "        '4': 4,\r\n",
        "        '5': 5,\r\n",
        "        'apple': 6,\r\n",
        "        'baseball': 7,\r\n",
        "        'bench': 8,\r\n",
        "        'bike': 9,\r\n",
        "        'bird': 10,\r\n",
        "        'black': 11,\r\n",
        "        'blanket': 12,\r\n",
        "        'blue': 13,\r\n",
        "        'bone': 14,\r\n",
        "        'book': 15,\r\n",
        "        'boy': 16,\r\n",
        "        'brown': 17,\r\n",
        "        'cat': 18,\r\n",
        "        'chair': 19,\r\n",
        "        'couch': 20,\r\n",
        "        'dog': 21,\r\n",
        "        'floor': 22,\r\n",
        "        'food': 23,\r\n",
        "        'football': 24,\r\n",
        "        'girl': 25,\r\n",
        "        'grass': 26,\r\n",
        "        'gray': 27,\r\n",
        "        'green': 28,\r\n",
        "        'left': 29,\r\n",
        "        'log': 30,\r\n",
        "        'man': 31,\r\n",
        "        'monkey bars': 32,\r\n",
        "        'no': 33,\r\n",
        "        'nothing': 34,\r\n",
        "        'orange': 35,\r\n",
        "        'pie': 36,\r\n",
        "        'plant': 37,\r\n",
        "        'playing': 38,\r\n",
        "        'red': 39,\r\n",
        "        'right': 40,\r\n",
        "        'rug': 41,\r\n",
        "        'sandbox': 42,\r\n",
        "        'sitting': 43,\r\n",
        "        'sleeping': 44,\r\n",
        "        'soccer': 45,\r\n",
        "        'squirrel': 46,\r\n",
        "        'standing': 47,\r\n",
        "        'stool': 48,\r\n",
        "        'sunny': 49,\r\n",
        "        'table': 50,\r\n",
        "        'tree': 51,\r\n",
        "        'watermelon': 52,\r\n",
        "        'white': 53,\r\n",
        "        'wine': 54,\r\n",
        "        'woman': 55,\r\n",
        "        'yellow': 56,\r\n",
        "        'yes': 57\r\n",
        "}\r\n"
      ],
      "execution_count": 147,
      "outputs": []
    },
    {
      "cell_type": "code",
      "metadata": {
        "colab": {
          "base_uri": "https://localhost:8080/"
        },
        "id": "Z8bhsWQnnU-i",
        "outputId": "aac62612-dad6-4ef4-dbbe-38f198f279e7"
      },
      "source": [
        "from google.colab import drive\n",
        "drive.mount('/content/drive', force_remount=True)"
      ],
      "execution_count": 148,
      "outputs": [
        {
          "output_type": "stream",
          "text": [
            "Mounted at /content/drive\n"
          ],
          "name": "stdout"
        }
      ]
    },
    {
      "cell_type": "code",
      "metadata": {
        "colab": {
          "base_uri": "https://localhost:8080/"
        },
        "id": "Uw-loJ73n0eS",
        "outputId": "1b16e3f7-33a1-4dbc-fa4d-0935efa751fa"
      },
      "source": [
        "!unzip /content/drive/MyDrive/anndl-2020-vqa.zip"
      ],
      "execution_count": 149,
      "outputs": [
        {
          "output_type": "stream",
          "text": [
            "Archive:  /content/drive/MyDrive/anndl-2020-vqa.zip\n",
            "replace VQA_Dataset/Images/0.png? [y]es, [n]o, [A]ll, [N]one, [r]ename: "
          ],
          "name": "stdout"
        }
      ]
    },
    {
      "cell_type": "code",
      "metadata": {
        "colab": {
          "base_uri": "https://localhost:8080/"
        },
        "id": "z3gCzJ2NP3Rl",
        "outputId": "cb72356c-b3cd-4662-e37f-2bebed37f5ba"
      },
      "source": [
        "ls"
      ],
      "execution_count": 150,
      "outputs": [
        {
          "output_type": "stream",
          "text": [
            "\u001b[0m\u001b[01;34mdrive\u001b[0m/  model.png  \u001b[01;34mmulticlass_exps\u001b[0m/  \u001b[01;34msample_data\u001b[0m/  \u001b[01;34mVQA_Dataset\u001b[0m/\n"
          ],
          "name": "stdout"
        }
      ]
    },
    {
      "cell_type": "markdown",
      "metadata": {
        "id": "mH3lzlVqnFI2"
      },
      "source": [
        "# Example: Image Segmentation\n",
        "## Build segmentation"
      ]
    },
    {
      "cell_type": "code",
      "metadata": {
        "id": "4N88wG50nFI3"
      },
      "source": [
        "import shutil\n",
        "import random\n",
        "import json\n",
        "import math\n",
        "\n",
        "SEED = 1234\n",
        "tf.random.set_seed(SEED)  \n",
        "\n",
        "# Get current working directory\n",
        "cwd = \"VQA_Dataset\"\n",
        "\n",
        "#Save all possible path in order to be able to cycle over them\n",
        "dataset_image_dir = os.path.join(cwd,'Images')\n",
        "\n",
        "dataset_QA = os.path.join(cwd,'train_questions_annotations.json')\n",
        "\n",
        "test_QA = os.path.join(cwd,'test_questions.json')\n"
      ],
      "execution_count": 176,
      "outputs": []
    },
    {
      "cell_type": "code",
      "metadata": {
        "id": "PHYiQhjvRgb1"
      },
      "source": [
        "print(dataset_QA)\n",
        "print(test_QA)"
      ],
      "execution_count": null,
      "outputs": []
    },
    {
      "cell_type": "code",
      "metadata": {
        "id": "J6Yg_m_hRgqo"
      },
      "source": [
        "with open(dataset_QA) as f:\n",
        "    q_dict = json.load(f)"
      ],
      "execution_count": null,
      "outputs": []
    },
    {
      "cell_type": "code",
      "metadata": {
        "id": "13iz41XcOf1g"
      },
      "source": [
        "for key in q_dict:\r\n",
        "#     q_dict[key]['answer'] = labels_dict[q_dict[key]['answer']]\r\n",
        "    print(q_dict[key]['answer'])"
      ],
      "execution_count": null,
      "outputs": []
    },
    {
      "cell_type": "code",
      "metadata": {
        "id": "o0m1fRXqzRNI"
      },
      "source": [
        "# Prepare dataset\r\n",
        "# ---------------\r\n",
        "\r\n",
        "\r\n",
        "\r\n",
        "\r\n",
        "MAX_NUM_SENTENCES = 70000\r\n",
        "MAX_NUM_WORDS = 20000\r\n",
        "\r\n",
        "answers = []\r\n",
        "questions = []\r\n",
        "eng_sentences_train = []\r\n",
        "\r\n",
        "# Simplify the dataset\r\n",
        "MAX_LEN = 25 # words\r\n",
        "\r\n",
        "# Read all lines in translation dataset\r\n",
        "count = 0\r\n",
        "\r\n",
        "for key in q_dict:\r\n",
        "\r\n",
        "\r\n",
        "#for line in open(os.path.join('/content/drive/My Drive', 'ita.txt'), encoding='utf-8'):\r\n",
        "    \r\n",
        "    if count > MAX_NUM_SENTENCES:\r\n",
        "        break\r\n",
        "\r\n",
        "        \r\n",
        "    answer = q_dict[key]['answer']\r\n",
        "    question = q_dict[key]['question']\r\n",
        "\r\n",
        "    \r\n",
        "    if (len(answer.split(' ')) > MAX_LEN or\r\n",
        "          len(question.split(' ')) > MAX_LEN):\r\n",
        "      continue\r\n",
        "    \r\n",
        "    question = question + ' <eos>'\r\n",
        "       \r\n",
        "    questions.append(question)\r\n",
        "    \r\n",
        "    answer_arr = np.zeros(58)\r\n",
        "    answer_arr[labels_dict[q_dict[key]['answer']]] = 1\r\n",
        "    \r\n",
        "    q_dict[key]['answer'] = answer_arr\r\n",
        "    answers.append(answer)\r\n",
        "    \r\n",
        "    count += 1\r\n",
        "\r\n",
        "print('Number of questions:', len(questions))"
      ],
      "execution_count": null,
      "outputs": []
    },
    {
      "cell_type": "code",
      "metadata": {
        "id": "hvcWDzkhww5h"
      },
      "source": [
        "max(len(sentence.split(' ')) for sentence in questions)"
      ],
      "execution_count": null,
      "outputs": []
    },
    {
      "cell_type": "code",
      "metadata": {
        "id": "vV1scLPRxA5V"
      },
      "source": [
        "from tensorflow.keras.preprocessing.text import Tokenizer\r\n",
        "from tensorflow.keras.preprocessing.sequence import pad_sequences\r\n",
        "\r\n",
        "# Create Tokenizer to convert words to integers\r\n",
        "ita_tokenizer = Tokenizer(num_words= MAX_NUM_WORDS)\r\n",
        "ita_tokenizer.fit_on_texts(questions)\r\n",
        "ita_tokenized = ita_tokenizer.texts_to_sequences(questions)\r\n",
        "\r\n",
        "ita_wtoi = ita_tokenizer.word_index\r\n",
        "print('Total Questions words:', len(ita_wtoi))\r\n",
        "\r\n",
        "max_ita_length = max(len(sentence) for sentence in ita_tokenized)\r\n",
        "print('Max question length:', max_ita_length)"
      ],
      "execution_count": null,
      "outputs": []
    },
    {
      "cell_type": "code",
      "metadata": {
        "id": "lzGDIZ0IxCNI"
      },
      "source": [
        "# Pad to max italian sentence length\r\n",
        "ita_encoder_inputs = pad_sequences(ita_tokenized, maxlen=max_ita_length)\r\n",
        "\r\n",
        "print(\"Italian encoder inputs shape:\", ita_encoder_inputs.shape)\r\n"
      ],
      "execution_count": null,
      "outputs": []
    },
    {
      "cell_type": "code",
      "metadata": {
        "id": "5RHcOyBOxFvD"
      },
      "source": [
        "count = 0\r\n",
        "for key in q_dict:\r\n",
        "    q_dict[key]['question'] = ita_encoder_inputs[count]\r\n",
        "    count+=1\r\n",
        " "
      ],
      "execution_count": null,
      "outputs": []
    },
    {
      "cell_type": "code",
      "metadata": {
        "id": "3eX-EIHjxHtc"
      },
      "source": [
        "# Build Encoder-Decoder Model\r\n",
        "# ---------------------------\r\n",
        "\r\n",
        "EMBEDDING_SIZE = 32\r\n",
        "\r\n",
        "# ENCODER\r\n",
        "# -------\r\n",
        "\r\n",
        "encoder_input = tf.keras.Input(shape=[max_ita_length])\r\n",
        "encoder_embedding_layer = tf.keras.layers.Embedding(len(ita_wtoi)+1, EMBEDDING_SIZE, input_length=max_ita_length, mask_zero=True)\r\n",
        "encoder_embedding_out = encoder_embedding_layer(encoder_input)\r\n",
        "encoder = tf.keras.layers.LSTM(units=512, return_state=True)\r\n",
        "\r\n",
        "encoder_output, h, c = encoder(encoder_embedding_out)\r\n",
        "encoder_states = [h, c]\r\n",
        "\r\n",
        "\r\n",
        "\r\n",
        "# MODEL\r\n",
        "model_lstm = tf.keras.Model(encoder_input,encoder_output, name='model')"
      ],
      "execution_count": null,
      "outputs": []
    },
    {
      "cell_type": "code",
      "metadata": {
        "id": "3ww4luq1xIbp"
      },
      "source": [
        "model_lstm.summary()"
      ],
      "execution_count": null,
      "outputs": []
    },
    {
      "cell_type": "code",
      "metadata": {
        "id": "hsieZk4aKhm6"
      },
      "source": [
        "# ImageDataGenerator\n",
        "# ------------------\n",
        "\n",
        "from tensorflow.keras.preprocessing.image import ImageDataGenerator\n",
        "\n",
        "apply_data_augmentation = False\n",
        "\n",
        "# Create training ImageDataGenerator object\n",
        "# We need two different generators for images and corresponding masks\n",
        "if apply_data_augmentation:\n",
        "    img_data_gen = ImageDataGenerator(rotation_range=10,\n",
        "                                      width_shift_range=10,\n",
        "                                      height_shift_range=10,\n",
        "                                      zoom_range=0.3,\n",
        "                                      horizontal_flip=True,\n",
        "                                      vertical_flip=True,\n",
        "                                      fill_mode='reflect')\n",
        "else :\n",
        "    img_data_gen = ImageDataGenerator()\n"
      ],
      "execution_count": null,
      "outputs": []
    },
    {
      "cell_type": "code",
      "metadata": {
        "id": "TyrdiIh_PWjB"
      },
      "source": [
        "from PIL import Image\n",
        "\n",
        "class CustomDataset(tf.keras.utils.Sequence):\n",
        "\n",
        "    \"\"\"\n",
        "        CustomDataset inheriting from tf.keras.utils.Sequence.\n",
        "\n",
        "        3 main methods:\n",
        "          - __init__: save dataset params like directory, filenames..\n",
        "          - __len__: return the total number of samples in the dataset\n",
        "          - __getitem__: return a sample from the dataset\n",
        "\n",
        "        Note: \n",
        "          - the custom dataset return a single sample from the dataset. Then, we use \n",
        "            a tf.data.Dataset object to group samples into batches.\n",
        "          - in this case we have a different structure of the dataset in memory. \n",
        "            We have all the images in the same folder and the training and validation splits\n",
        "            are defined in text files.\n",
        "\n",
        "      \"\"\"\n",
        "\n",
        "    def __init__(self, dataset_dir, which_subset, img_generator=None, mask_generator=None, \n",
        "                preprocessing_function=None, out_shape=[256, 256]):\n",
        "        if which_subset == 'training':\n",
        "            subset_file = os.path.join(dataset_dir, 'Splits', 'train.txt')\n",
        "        elif which_subset == 'validation':\n",
        "            subset_file = os.path.join(dataset_dir, 'Splits', 'val.txt')\n",
        "    \n",
        "        with open(subset_file, 'r') as f:\n",
        "            lines = f.readlines()\n",
        "    \n",
        "        subset_filenames = []\n",
        "        for line in lines:\n",
        "            subset_filenames.append(line.strip()) \n",
        "\n",
        "        self.which_subset = which_subset\n",
        "        self.dataset_dir = dataset_dir\n",
        "        self.subset_filenames = subset_filenames\n",
        "        self.img_generator = img_generator\n",
        "        self.preprocessing_function = preprocessing_function\n",
        "        self.out_shape = out_shape\n",
        "\n",
        "    def __len__(self):\n",
        "        return len(self.subset_filenames)\n",
        "\n",
        "    def __getitem__(self, index):\n",
        "        \n",
        "        \n",
        "        \n",
        "        \n",
        "        # Read Image\n",
        "        curr_filename = self.subset_filenames[index]\n",
        "        element = q_dict[curr_filename]\n",
        "        image = element['image_id']\n",
        "        img = Image.open(os.path.join(self.dataset_dir, 'Images', image + '.png'))\n",
        "        #mask = rme.read_rgb_mask(os.path.join(self.dataset_dir, 'Masks', curr_filename + '.png'))\n",
        "\n",
        "        img = img.convert('RGB')\n",
        "        \n",
        "        # Resize image and mask\n",
        "        img = img.resize(self.out_shape)\n",
        "        \n",
        "\n",
        "        \n",
        "       # mask = mask.resize(self.out_shape)\n",
        "    \n",
        "        img_arr = np.array(img)\n",
        "        \n",
        "        \n",
        "        \n",
        "        question = element['question']\n",
        "        answer = element['answer']\n",
        "        #print(mask_arr.shape)\n",
        "  \n",
        "#         if self.which_subset == 'training':\n",
        "#             if self.img_generator is not None and self.mask_generator is not None:\n",
        "                # Perform data augmentation\n",
        "                # We can get a random transformation from the ImageDataGenerator using get_random_transform\n",
        "                # and we can apply it to the image using apply_transform\n",
        "                \n",
        "#                 img_t = self.img_generator.get_random_transform(img_arr.shape, seed=SEED)\n",
        "#                 mask_t = self.mask_generator.get_random_transform(mask_arr.shape, seed=SEED)\n",
        "#                 img_arr = self.img_generator.apply_transform(img_arr, img_t)\n",
        "                \n",
        "                # ImageDataGenerator use bilinear interpolation for augmenting the images.\n",
        "                # Thus, when applied to the masks it will output 'interpolated classes', which\n",
        "                # is an unwanted behaviour. As a trick, we can transform each class mask \n",
        "                # separately and then we can cast to integer values (as in the binary segmentation notebook).\n",
        "                # Finally, we merge the augmented binary masks to obtain the final segmentation mask.\n",
        "#                 out_mask = np.zeros_like(mask_arr)\n",
        "#                 for c in np.unique(mask_arr):\n",
        "#                     if c > 0:\n",
        "#                         curr_class_arr = np.float32(mask_arr == c)\n",
        "#                         curr_class_arr = self.mask_generator.apply_transform(curr_class_arr, mask_t)\n",
        "#                         # from [0, 1] to {0, 1}\n",
        "#                         curr_class_arr = np.uint8(curr_class_arr)\n",
        "#                         # recover original class\n",
        "#                         curr_class_arr = curr_class_arr * c \n",
        "#                         out_mask += curr_class_arr\n",
        "#         else:\n",
        "    \n",
        "        if self.preprocessing_function is not None:\n",
        "            img_arr = self.preprocessing_function(img_arr)\n",
        "        \n",
        "        pair = {\"input_1\": img_arr, \"input_2\": question}\n",
        "        \n",
        "        return pair, answer"
      ],
      "execution_count": null,
      "outputs": []
    },
    {
      "cell_type": "code",
      "metadata": {
        "id": "usz5SKPeQrOE"
      },
      "source": [
        "if not os.path.exists(os.path.join(cwd,\"Splits/\")):\n",
        "    os.makedirs(os.path.join(cwd,\"Splits/\"))\n",
        "\n",
        "\n",
        "\n",
        "import json\n",
        "\n",
        "\n",
        "\n",
        "# Output: {'name': 'Bob', 'languages': ['English', 'Fench']}\n",
        "\n",
        "val=[]\n",
        "train=[]\n",
        "\n",
        "for key in q_dict:\n",
        "# image_filenames = next(os.walk(os.path.join(dataset_dir[j],\"Images/\")))[2]\n",
        "\n",
        "\n",
        "\n",
        "# for image_name in image_filenames:\n",
        "    if 100*random.random() < 10:\n",
        "        val.append(key)\n",
        "    else:\n",
        "        train.append(key)\n",
        "\n",
        "with open(os.path.join(cwd,\"Splits\",\"train.txt\"), 'w') as file:  # Use file to refer to the file object\n",
        "    for i in train:\n",
        "        a = file.write(str(i)+\"\\n\")\n",
        "\n",
        "with open(os.path.join(cwd,\"Splits\",\"val.txt\"), 'w') as file:  # Use file to refer to the file object\n",
        "    for i in val:\n",
        "        a = file.write(str(i)+\"\\n\")\n",
        "\n"
      ],
      "execution_count": null,
      "outputs": []
    },
    {
      "cell_type": "code",
      "metadata": {
        "id": "JgpWhorBogdB"
      },
      "source": [
        "#Creation of dataset generators (the commented line are the ones for getting also the haricot Dataset)\n",
        "\n",
        "from tensorflow.keras.applications.vgg16 import preprocess_input \n",
        "\n",
        "img_h = 400\n",
        "img_w = 700\n",
        "\n",
        "dataset = CustomDataset(cwd, 'training', \n",
        "                        img_generator=img_data_gen, preprocessing_function=None, out_shape=[img_w,img_h])\n",
        "\n",
        "dataset_valid = CustomDataset(cwd, 'validation',\n",
        "                              preprocessing_function=None,out_shape=[img_w,img_h])\n",
        "\n"
      ],
      "execution_count": null,
      "outputs": []
    },
    {
      "cell_type": "code",
      "metadata": {
        "id": "HOBabUbmnFJE"
      },
      "source": [
        "#Creation of datasets (the commented line are the ones for getting also the haricot Dataset)\n",
        "\n",
        "\n",
        "train_dataset = tf.data.Dataset.from_generator(lambda: dataset,\n",
        "                                               output_types=({\"input_1\": tf.float32, \"input_2\": tf.float32}, tf.float32),\n",
        "                                               output_shapes=({\"input_1\": [img_h, img_w, 3], \"input_2\":  22}, 58)\n",
        "                                              )\n",
        "\n",
        "bs=64\n",
        "\n",
        "\n",
        "train_dataset = train_dataset.batch(bs)\n",
        "\n",
        "train_dataset = train_dataset.repeat()\n",
        "\n",
        "valid_dataset = tf.data.Dataset.from_generator(lambda: dataset_valid,\n",
        "                                               output_types=({\"input_1\": tf.float32, \"input_2\": tf.float32}, tf.float32),\n",
        "                                               output_shapes=({\"input_1\": [img_h, img_w, 3], \"input_2\":  22}, 58)\n",
        "                                              )\n",
        "\n",
        "valid_dataset = valid_dataset.batch(bs)\n",
        "\n",
        "valid_dataset = valid_dataset.repeat()"
      ],
      "execution_count": null,
      "outputs": []
    },
    {
      "cell_type": "code",
      "metadata": {
        "id": "9eunbPwWqPnB"
      },
      "source": [
        "# Let's test data generator\n",
        "# -------------------------\n",
        "\n",
        "import time\n",
        "from matplotlib import cm\n",
        "import matplotlib.pyplot as plt\n",
        "\n",
        "%matplotlib inline\n",
        "\n",
        "\n",
        "# Assign a color to each class\n",
        "evenly_spaced_interval = np.linspace(0, 1, 3)\n",
        "colors = [cm.rainbow(x) for x in evenly_spaced_interval]\n",
        "\n",
        "iterator = iter(valid_dataset)"
      ],
      "execution_count": null,
      "outputs": []
    },
    {
      "cell_type": "code",
      "metadata": {
        "colab": {
          "base_uri": "https://localhost:8080/",
          "height": 297
        },
        "id": "553NrJXrFCZo",
        "outputId": "ff183d2f-3c0e-4357-ceb9-338d0e74d5dc"
      },
      "source": [
        "augmented_img = next(iterator)\n",
        "\n",
        "\n",
        "image = augmented_img[0]['input_1'][0]   # First element\n",
        "\n",
        "tf.print (augmented_img[0]['input_2'][0])\n",
        "tf.print (augmented_img[1][0])\n",
        "\n",
        "plt.imshow(np.uint8(image))\n",
        "plt.plot"
      ],
      "execution_count": 168,
      "outputs": [
        {
          "output_type": "stream",
          "text": [
            "[0 0 0 ... 78 446 1]\n",
            "[0 0 0 ... 0 0 1]\n"
          ],
          "name": "stdout"
        },
        {
          "output_type": "execute_result",
          "data": {
            "text/plain": [
              "<matplotlib.image.AxesImage at 0x7f2facca3358>"
            ]
          },
          "metadata": {
            "tags": []
          },
          "execution_count": 168
        },
        {
          "output_type": "execute_result",
          "data": {
            "text/plain": [
              "<function matplotlib.pyplot.plot>"
            ]
          },
          "metadata": {
            "tags": []
          },
          "execution_count": 168
        },
        {
          "output_type": "display_data",
          "data": {
            "image/png": "[encoded data removed]",
            "text/plain": [
              "<Figure size 432x288 with 1 Axes>"
            ]
          },
          "metadata": {
            "tags": [],
            "needs_background": "light"
          }
        }
      ]
    },
    {
      "cell_type": "code",
      "metadata": {
        "id": "JA1TGlOMnFJM",
        "colab": {
          "base_uri": "https://localhost:8080/"
        },
        "outputId": "c556273b-5f88-49b6-eecb-c9f3597560dc"
      },
      "source": [
        "#Loading of VGG that will be used as a Backbone\n",
        "vgg = tf.keras.applications.VGG16(weights='imagenet', include_top=False, input_shape=(img_h, img_w, 3))\n",
        "\n",
        "# for layer in vgg.layers:\n",
        "#   layer.trainable = False\n",
        "freeze_until = 18 # layer from which we want to fine-tune\n",
        "\n",
        "for layer in vgg.layers[:freeze_until]:\n",
        "    layer.trainable = False\n",
        "vgg.summary()"
      ],
      "execution_count": 169,
      "outputs": [
        {
          "output_type": "stream",
          "text": [
            "Model: \"vgg16\"\n",
            "_________________________________________________________________\n",
            "Layer (type)                 Output Shape              Param #   \n",
            "=================================================================\n",
            "input_13 (InputLayer)        [(None, 400, 700, 3)]     0         \n",
            "_________________________________________________________________\n",
            "block1_conv1 (Conv2D)        (None, 400, 700, 64)      1792      \n",
            "_________________________________________________________________\n",
            "block1_conv2 (Conv2D)        (None, 400, 700, 64)      36928     \n",
            "_________________________________________________________________\n",
            "block1_pool (MaxPooling2D)   (None, 200, 350, 64)      0         \n",
            "_________________________________________________________________\n",
            "block2_conv1 (Conv2D)        (None, 200, 350, 128)     73856     \n",
            "_________________________________________________________________\n",
            "block2_conv2 (Conv2D)        (None, 200, 350, 128)     147584    \n",
            "_________________________________________________________________\n",
            "block2_pool (MaxPooling2D)   (None, 100, 175, 128)     0         \n",
            "_________________________________________________________________\n",
            "block3_conv1 (Conv2D)        (None, 100, 175, 256)     295168    \n",
            "_________________________________________________________________\n",
            "block3_conv2 (Conv2D)        (None, 100, 175, 256)     590080    \n",
            "_________________________________________________________________\n",
            "block3_conv3 (Conv2D)        (None, 100, 175, 256)     590080    \n",
            "_________________________________________________________________\n",
            "block3_pool (MaxPooling2D)   (None, 50, 87, 256)       0         \n",
            "_________________________________________________________________\n",
            "block4_conv1 (Conv2D)        (None, 50, 87, 512)       1180160   \n",
            "_________________________________________________________________\n",
            "block4_conv2 (Conv2D)        (None, 50, 87, 512)       2359808   \n",
            "_________________________________________________________________\n",
            "block4_conv3 (Conv2D)        (None, 50, 87, 512)       2359808   \n",
            "_________________________________________________________________\n",
            "block4_pool (MaxPooling2D)   (None, 25, 43, 512)       0         \n",
            "_________________________________________________________________\n",
            "block5_conv1 (Conv2D)        (None, 25, 43, 512)       2359808   \n",
            "_________________________________________________________________\n",
            "block5_conv2 (Conv2D)        (None, 25, 43, 512)       2359808   \n",
            "_________________________________________________________________\n",
            "block5_conv3 (Conv2D)        (None, 25, 43, 512)       2359808   \n",
            "_________________________________________________________________\n",
            "block5_pool (MaxPooling2D)   (None, 12, 21, 512)       0         \n",
            "=================================================================\n",
            "Total params: 14,714,688\n",
            "Trainable params: 0\n",
            "Non-trainable params: 14,714,688\n",
            "_________________________________________________________________\n"
          ],
          "name": "stdout"
        }
      ]
    },
    {
      "cell_type": "code",
      "metadata": {
        "id": "nYzNyfh9BQPy"
      },
      "source": [
        "# This function is used for creating a model without skip connections\n",
        "def create_model():\n",
        "\n",
        "    model = tf.keras.Sequential()\n",
        "    model2 = tf.keras.Sequential()\n",
        "    # Encoder\n",
        "    # -------\n",
        "    model.add(vgg)\n",
        "    model2.add(model_lstm)\n",
        "    model.add(tf.keras.layers.GlobalAveragePooling2D())\n",
        "\n",
        "    \n",
        "    scores = tf.keras.layers.Multiply()([model.output, model2.output])\n",
        "    \n",
        "    denso = tf.keras.layers.Dense(units=256, activation='selu')(scores)\n",
        "\n",
        "    output = tf.keras.layers.Dense(units=58, activation='softmax')(denso)\n",
        "    \n",
        "    final_model = tf.keras.Model([model.inputs,model2.inputs], output)\n",
        "\n",
        "\n",
        "    return final_model"
      ],
      "execution_count": 170,
      "outputs": []
    },
    {
      "cell_type": "code",
      "metadata": {
        "id": "Cm_gC_sZLH1U"
      },
      "source": [
        "model = create_model()"
      ],
      "execution_count": 171,
      "outputs": []
    },
    {
      "cell_type": "code",
      "metadata": {
        "id": "BvsdiF0TFTbt",
        "colab": {
          "base_uri": "https://localhost:8080/"
        },
        "outputId": "17ba6108-97fa-4d73-bdae-dcbe20b72107"
      },
      "source": [
        "model.summary()"
      ],
      "execution_count": 172,
      "outputs": [
        {
          "output_type": "stream",
          "text": [
            "Model: \"model_8\"\n",
            "__________________________________________________________________________________________________\n",
            "Layer (type)                    Output Shape         Param #     Connected to                     \n",
            "==================================================================================================\n",
            "vgg16_input (InputLayer)        [(None, 400, 700, 3) 0                                            \n",
            "__________________________________________________________________________________________________\n",
            "vgg16 (Functional)              (None, 12, 21, 512)  14714688    vgg16_input[0][0]                \n",
            "__________________________________________________________________________________________________\n",
            "model_input (InputLayer)        [(None, 22)]         0                                            \n",
            "__________________________________________________________________________________________________\n",
            "global_average_pooling2d_6 (Glo (None, 512)          0           vgg16[0][0]                      \n",
            "__________________________________________________________________________________________________\n",
            "model (Functional)              (None, 512)          1264704     model_input[0][0]                \n",
            "__________________________________________________________________________________________________\n",
            "multiply_6 (Multiply)           (None, 512)          0           global_average_pooling2d_6[0][0] \n",
            "                                                                 model[0][0]                      \n",
            "__________________________________________________________________________________________________\n",
            "dense_12 (Dense)                (None, 256)          131328      multiply_6[0][0]                 \n",
            "__________________________________________________________________________________________________\n",
            "dense_13 (Dense)                (None, 58)           14906       dense_12[0][0]                   \n",
            "==================================================================================================\n",
            "Total params: 16,125,626\n",
            "Trainable params: 1,410,938\n",
            "Non-trainable params: 14,714,688\n",
            "__________________________________________________________________________________________________\n"
          ],
          "name": "stdout"
        }
      ]
    },
    {
      "cell_type": "code",
      "metadata": {
        "id": "JDI7ayv6LH1U",
        "colab": {
          "base_uri": "https://localhost:8080/",
          "height": 434
        },
        "outputId": "e9b7abb2-8f2c-4b55-80b8-8529c25d000d"
      },
      "source": [
        "tf.keras.utils.plot_model(model, show_shapes=True)\n"
      ],
      "execution_count": 173,
      "outputs": [
        {
          "output_type": "execute_result",
          "data": {
            "image/png": "[encoded data removed]",
            "text/plain": [
              "<IPython.core.display.Image object>"
            ]
          },
          "metadata": {
            "tags": []
          },
          "execution_count": 173
        }
      ]
    },
    {
      "cell_type": "code",
      "metadata": {
        "id": "k97OK6CRnFJS",
        "scrolled": true
      },
      "source": [
        "# Optimization params\n",
        "# -------------------\n",
        "\n",
        "# Loss\n",
        "# Sparse Categorical Crossentropy to use integers (mask) instead of one-hot encoded labels\n",
        "loss = tf.keras.losses.CategoricalCrossentropy() \n",
        "\n",
        "\n",
        "# learning rate\n",
        "lr = 5e-3\n",
        "optimizer = tf.keras.optimizers.Adam(learning_rate=lr)\n",
        "# -------------------\n",
        "\n",
        "\n",
        "# Validation metrics\n",
        "# ------------------\n",
        "metrics = ['accuracy']\n",
        "# ------------------\n",
        "\n",
        "\n",
        "\n",
        "# Compile Model\n",
        "model.compile(optimizer=optimizer, loss=loss , metrics=metrics)"
      ],
      "execution_count": 174,
      "outputs": []
    },
    {
      "cell_type": "code",
      "metadata": {
        "id": "VakVY-CtKYGK",
        "colab": {
          "base_uri": "https://localhost:8080/",
          "height": 1000
        },
        "outputId": "24ea9dd4-55d3-4164-f983-d4c9677e8847"
      },
      "source": [
        "import os\r\n",
        "from datetime import datetime\r\n",
        "\r\n",
        "cwd1 = os.getcwd()\r\n",
        "\r\n",
        "exps_dir = os.path.join(cwd1, 'multiclass_exps')\r\n",
        "if not os.path.exists(exps_dir):\r\n",
        "    os.makedirs(exps_dir)\r\n",
        "\r\n",
        "now = datetime.now().strftime('%b%d_%H-%M-%S')\r\n",
        "\r\n",
        "model_name = 'CNN'\r\n",
        "\r\n",
        "exp_dir = os.path.join(exps_dir, model_name + '_' + str(now))\r\n",
        "if not os.path.exists(exp_dir):\r\n",
        "    os.makedirs(exp_dir)\r\n",
        "    \r\n",
        "callbacks = []\r\n",
        "\r\n",
        "# Model checkpoint\r\n",
        "# ----------------\r\n",
        "ckpt_dir = os.path.join(exp_dir, 'ckpts')\r\n",
        "if not os.path.exists(ckpt_dir):\r\n",
        "    os.makedirs(ckpt_dir)\r\n",
        "\r\n",
        "ckpt_callback = tf.keras.callbacks.ModelCheckpoint(filepath=os.path.join(ckpt_dir, 'cp.ckpt'), \r\n",
        "                                                   save_weights_only=True)  # False to save the model directly\r\n",
        "callbacks.append(ckpt_callback)\r\n",
        "\r\n",
        "# Visualize Learning on Tensorboard\r\n",
        "# ---------------------------------\r\n",
        "tb_dir = os.path.join(exp_dir, 'tb_logs')\r\n",
        "if not os.path.exists(tb_dir):\r\n",
        "    os.makedirs(tb_dir)\r\n",
        "    \r\n",
        "# By default shows losses and metrics for both training and validation\r\n",
        "tb_callback = tf.keras.callbacks.TensorBoard(log_dir=tb_dir,\r\n",
        "                                             profile_batch=0,\r\n",
        "                                             histogram_freq=0)  # if 1 shows weights histograms\r\n",
        "callbacks.append(tb_callback)\r\n",
        "\r\n",
        "# Early Stopping\r\n",
        "# --------------\r\n",
        "early_stop = True\r\n",
        "if early_stop:\r\n",
        "    es_callback = tf.keras.callbacks.EarlyStopping(monitor='val_accuracy', patience=20)\r\n",
        "    callbacks.append(es_callback)\r\n",
        "\r\n",
        "\r\n",
        "model.fit(x=train_dataset,\r\n",
        "          epochs=100,  #### set repeat in training dataset\r\n",
        "          steps_per_epoch=len(dataset)/bs,#+len(dataset1)\r\n",
        "          validation_data=valid_dataset,\r\n",
        "          validation_steps=len(dataset_valid)/bs, #+len(dataset_valid1)\r\n",
        "          callbacks=callbacks)\r\n",
        "\r\n",
        "# How to visualize Tensorboard\r\n",
        "\r\n",
        "# 1. tensorboard --logdir EXPERIMENTS_DIR --port PORT     <- from terminal\r\n",
        "# 2. localhost:PORT   <- in your browser"
      ],
      "execution_count": 175,
      "outputs": [
        {
          "output_type": "stream",
          "text": [
            "Epoch 1/100\n",
            "WARNING:tensorflow:Model was constructed with shape (None, 400, 700, 3) for input KerasTensor(type_spec=TensorSpec(shape=(None, 400, 700, 3), dtype=tf.float32, name='vgg16_input'), name='vgg16_input', description=\"created by layer 'vgg16_input'\"), but it was called on an input with incompatible shape (None, 22).\n",
            "WARNING:tensorflow:Model was constructed with shape (None, 22) for input KerasTensor(type_spec=TensorSpec(shape=(None, 22), dtype=tf.float32, name='model_input'), name='model_input', description=\"created by layer 'model_input'\"), but it was called on an input with incompatible shape (None, 400, 700, 3).\n"
          ],
          "name": "stdout"
        },
        {
          "output_type": "error",
          "ename": "ValueError",
          "evalue": "ignored",
          "traceback": [
            "\u001b[0;31m---------------------------------------------------------------------------\u001b[0m",
            "\u001b[0;31mValueError\u001b[0m                                Traceback (most recent call last)",
            "\u001b[0;32m<ipython-input-175-d3c755acc945>\u001b[0m in \u001b[0;36m<module>\u001b[0;34m()\u001b[0m\n\u001b[1;32m     53\u001b[0m           \u001b[0mvalidation_data\u001b[0m\u001b[0;34m=\u001b[0m\u001b[0mvalid_dataset\u001b[0m\u001b[0;34m,\u001b[0m\u001b[0;34m\u001b[0m\u001b[0;34m\u001b[0m\u001b[0m\n\u001b[1;32m     54\u001b[0m           \u001b[0mvalidation_steps\u001b[0m\u001b[0;34m=\u001b[0m\u001b[0mlen\u001b[0m\u001b[0;34m(\u001b[0m\u001b[0mdataset_valid\u001b[0m\u001b[0;34m)\u001b[0m\u001b[0;34m/\u001b[0m\u001b[0mbs\u001b[0m\u001b[0;34m,\u001b[0m \u001b[0;31m#+len(dataset_valid1)\u001b[0m\u001b[0;34m\u001b[0m\u001b[0;34m\u001b[0m\u001b[0m\n\u001b[0;32m---> 55\u001b[0;31m           callbacks=callbacks)\n\u001b[0m\u001b[1;32m     56\u001b[0m \u001b[0;34m\u001b[0m\u001b[0m\n\u001b[1;32m     57\u001b[0m \u001b[0;31m# How to visualize Tensorboard\u001b[0m\u001b[0;34m\u001b[0m\u001b[0;34m\u001b[0m\u001b[0;34m\u001b[0m\u001b[0m\n",
            "\u001b[0;32m/usr/local/lib/python3.6/dist-packages/tensorflow/python/keras/engine/training.py\u001b[0m in \u001b[0;36mfit\u001b[0;34m(self, x, y, batch_size, epochs, verbose, callbacks, validation_split, validation_data, shuffle, class_weight, sample_weight, initial_epoch, steps_per_epoch, validation_steps, validation_batch_size, validation_freq, max_queue_size, workers, use_multiprocessing)\u001b[0m\n\u001b[1;32m   1098\u001b[0m                 _r=1):\n\u001b[1;32m   1099\u001b[0m               \u001b[0mcallbacks\u001b[0m\u001b[0;34m.\u001b[0m\u001b[0mon_train_batch_begin\u001b[0m\u001b[0;34m(\u001b[0m\u001b[0mstep\u001b[0m\u001b[0;34m)\u001b[0m\u001b[0;34m\u001b[0m\u001b[0;34m\u001b[0m\u001b[0m\n\u001b[0;32m-> 1100\u001b[0;31m               \u001b[0mtmp_logs\u001b[0m \u001b[0;34m=\u001b[0m \u001b[0mself\u001b[0m\u001b[0;34m.\u001b[0m\u001b[0mtrain_function\u001b[0m\u001b[0;34m(\u001b[0m\u001b[0miterator\u001b[0m\u001b[0;34m)\u001b[0m\u001b[0;34m\u001b[0m\u001b[0;34m\u001b[0m\u001b[0m\n\u001b[0m\u001b[1;32m   1101\u001b[0m               \u001b[0;32mif\u001b[0m \u001b[0mdata_handler\u001b[0m\u001b[0;34m.\u001b[0m\u001b[0mshould_sync\u001b[0m\u001b[0;34m:\u001b[0m\u001b[0;34m\u001b[0m\u001b[0;34m\u001b[0m\u001b[0m\n\u001b[1;32m   1102\u001b[0m                 \u001b[0mcontext\u001b[0m\u001b[0;34m.\u001b[0m\u001b[0masync_wait\u001b[0m\u001b[0;34m(\u001b[0m\u001b[0;34m)\u001b[0m\u001b[0;34m\u001b[0m\u001b[0;34m\u001b[0m\u001b[0m\n",
            "\u001b[0;32m/usr/local/lib/python3.6/dist-packages/tensorflow/python/eager/def_function.py\u001b[0m in \u001b[0;36m__call__\u001b[0;34m(self, *args, **kwds)\u001b[0m\n\u001b[1;32m    826\u001b[0m     \u001b[0mtracing_count\u001b[0m \u001b[0;34m=\u001b[0m \u001b[0mself\u001b[0m\u001b[0;34m.\u001b[0m\u001b[0mexperimental_get_tracing_count\u001b[0m\u001b[0;34m(\u001b[0m\u001b[0;34m)\u001b[0m\u001b[0;34m\u001b[0m\u001b[0;34m\u001b[0m\u001b[0m\n\u001b[1;32m    827\u001b[0m     \u001b[0;32mwith\u001b[0m \u001b[0mtrace\u001b[0m\u001b[0;34m.\u001b[0m\u001b[0mTrace\u001b[0m\u001b[0;34m(\u001b[0m\u001b[0mself\u001b[0m\u001b[0;34m.\u001b[0m\u001b[0m_name\u001b[0m\u001b[0;34m)\u001b[0m \u001b[0;32mas\u001b[0m \u001b[0mtm\u001b[0m\u001b[0;34m:\u001b[0m\u001b[0;34m\u001b[0m\u001b[0;34m\u001b[0m\u001b[0m\n\u001b[0;32m--> 828\u001b[0;31m       \u001b[0mresult\u001b[0m \u001b[0;34m=\u001b[0m \u001b[0mself\u001b[0m\u001b[0;34m.\u001b[0m\u001b[0m_call\u001b[0m\u001b[0;34m(\u001b[0m\u001b[0;34m*\u001b[0m\u001b[0margs\u001b[0m\u001b[0;34m,\u001b[0m \u001b[0;34m**\u001b[0m\u001b[0mkwds\u001b[0m\u001b[0;34m)\u001b[0m\u001b[0;34m\u001b[0m\u001b[0;34m\u001b[0m\u001b[0m\n\u001b[0m\u001b[1;32m    829\u001b[0m       \u001b[0mcompiler\u001b[0m \u001b[0;34m=\u001b[0m \u001b[0;34m\"xla\"\u001b[0m \u001b[0;32mif\u001b[0m \u001b[0mself\u001b[0m\u001b[0;34m.\u001b[0m\u001b[0m_experimental_compile\u001b[0m \u001b[0;32melse\u001b[0m \u001b[0;34m\"nonXla\"\u001b[0m\u001b[0;34m\u001b[0m\u001b[0;34m\u001b[0m\u001b[0m\n\u001b[1;32m    830\u001b[0m       \u001b[0mnew_tracing_count\u001b[0m \u001b[0;34m=\u001b[0m \u001b[0mself\u001b[0m\u001b[0;34m.\u001b[0m\u001b[0mexperimental_get_tracing_count\u001b[0m\u001b[0;34m(\u001b[0m\u001b[0;34m)\u001b[0m\u001b[0;34m\u001b[0m\u001b[0;34m\u001b[0m\u001b[0m\n",
            "\u001b[0;32m/usr/local/lib/python3.6/dist-packages/tensorflow/python/eager/def_function.py\u001b[0m in \u001b[0;36m_call\u001b[0;34m(self, *args, **kwds)\u001b[0m\n\u001b[1;32m    869\u001b[0m       \u001b[0;31m# This is the first call of __call__, so we have to initialize.\u001b[0m\u001b[0;34m\u001b[0m\u001b[0;34m\u001b[0m\u001b[0;34m\u001b[0m\u001b[0m\n\u001b[1;32m    870\u001b[0m       \u001b[0minitializers\u001b[0m \u001b[0;34m=\u001b[0m \u001b[0;34m[\u001b[0m\u001b[0;34m]\u001b[0m\u001b[0;34m\u001b[0m\u001b[0;34m\u001b[0m\u001b[0m\n\u001b[0;32m--> 871\u001b[0;31m       \u001b[0mself\u001b[0m\u001b[0;34m.\u001b[0m\u001b[0m_initialize\u001b[0m\u001b[0;34m(\u001b[0m\u001b[0margs\u001b[0m\u001b[0;34m,\u001b[0m \u001b[0mkwds\u001b[0m\u001b[0;34m,\u001b[0m \u001b[0madd_initializers_to\u001b[0m\u001b[0;34m=\u001b[0m\u001b[0minitializers\u001b[0m\u001b[0;34m)\u001b[0m\u001b[0;34m\u001b[0m\u001b[0;34m\u001b[0m\u001b[0m\n\u001b[0m\u001b[1;32m    872\u001b[0m     \u001b[0;32mfinally\u001b[0m\u001b[0;34m:\u001b[0m\u001b[0;34m\u001b[0m\u001b[0;34m\u001b[0m\u001b[0m\n\u001b[1;32m    873\u001b[0m       \u001b[0;31m# At this point we know that the initialization is complete (or less\u001b[0m\u001b[0;34m\u001b[0m\u001b[0;34m\u001b[0m\u001b[0;34m\u001b[0m\u001b[0m\n",
            "\u001b[0;32m/usr/local/lib/python3.6/dist-packages/tensorflow/python/eager/def_function.py\u001b[0m in \u001b[0;36m_initialize\u001b[0;34m(self, args, kwds, add_initializers_to)\u001b[0m\n\u001b[1;32m    724\u001b[0m     self._concrete_stateful_fn = (\n\u001b[1;32m    725\u001b[0m         self._stateful_fn._get_concrete_function_internal_garbage_collected(  # pylint: disable=protected-access\n\u001b[0;32m--> 726\u001b[0;31m             *args, **kwds))\n\u001b[0m\u001b[1;32m    727\u001b[0m \u001b[0;34m\u001b[0m\u001b[0m\n\u001b[1;32m    728\u001b[0m     \u001b[0;32mdef\u001b[0m \u001b[0minvalid_creator_scope\u001b[0m\u001b[0;34m(\u001b[0m\u001b[0;34m*\u001b[0m\u001b[0munused_args\u001b[0m\u001b[0;34m,\u001b[0m \u001b[0;34m**\u001b[0m\u001b[0munused_kwds\u001b[0m\u001b[0;34m)\u001b[0m\u001b[0;34m:\u001b[0m\u001b[0;34m\u001b[0m\u001b[0;34m\u001b[0m\u001b[0m\n",
            "\u001b[0;32m/usr/local/lib/python3.6/dist-packages/tensorflow/python/eager/function.py\u001b[0m in \u001b[0;36m_get_concrete_function_internal_garbage_collected\u001b[0;34m(self, *args, **kwargs)\u001b[0m\n\u001b[1;32m   2967\u001b[0m       \u001b[0margs\u001b[0m\u001b[0;34m,\u001b[0m \u001b[0mkwargs\u001b[0m \u001b[0;34m=\u001b[0m \u001b[0;32mNone\u001b[0m\u001b[0;34m,\u001b[0m \u001b[0;32mNone\u001b[0m\u001b[0;34m\u001b[0m\u001b[0;34m\u001b[0m\u001b[0m\n\u001b[1;32m   2968\u001b[0m     \u001b[0;32mwith\u001b[0m \u001b[0mself\u001b[0m\u001b[0;34m.\u001b[0m\u001b[0m_lock\u001b[0m\u001b[0;34m:\u001b[0m\u001b[0;34m\u001b[0m\u001b[0;34m\u001b[0m\u001b[0m\n\u001b[0;32m-> 2969\u001b[0;31m       \u001b[0mgraph_function\u001b[0m\u001b[0;34m,\u001b[0m \u001b[0m_\u001b[0m \u001b[0;34m=\u001b[0m \u001b[0mself\u001b[0m\u001b[0;34m.\u001b[0m\u001b[0m_maybe_define_function\u001b[0m\u001b[0;34m(\u001b[0m\u001b[0margs\u001b[0m\u001b[0;34m,\u001b[0m \u001b[0mkwargs\u001b[0m\u001b[0;34m)\u001b[0m\u001b[0;34m\u001b[0m\u001b[0;34m\u001b[0m\u001b[0m\n\u001b[0m\u001b[1;32m   2970\u001b[0m     \u001b[0;32mreturn\u001b[0m \u001b[0mgraph_function\u001b[0m\u001b[0;34m\u001b[0m\u001b[0;34m\u001b[0m\u001b[0m\n\u001b[1;32m   2971\u001b[0m \u001b[0;34m\u001b[0m\u001b[0m\n",
            "\u001b[0;32m/usr/local/lib/python3.6/dist-packages/tensorflow/python/eager/function.py\u001b[0m in \u001b[0;36m_maybe_define_function\u001b[0;34m(self, args, kwargs)\u001b[0m\n\u001b[1;32m   3359\u001b[0m \u001b[0;34m\u001b[0m\u001b[0m\n\u001b[1;32m   3360\u001b[0m           \u001b[0mself\u001b[0m\u001b[0;34m.\u001b[0m\u001b[0m_function_cache\u001b[0m\u001b[0;34m.\u001b[0m\u001b[0mmissed\u001b[0m\u001b[0;34m.\u001b[0m\u001b[0madd\u001b[0m\u001b[0;34m(\u001b[0m\u001b[0mcall_context_key\u001b[0m\u001b[0;34m)\u001b[0m\u001b[0;34m\u001b[0m\u001b[0;34m\u001b[0m\u001b[0m\n\u001b[0;32m-> 3361\u001b[0;31m           \u001b[0mgraph_function\u001b[0m \u001b[0;34m=\u001b[0m \u001b[0mself\u001b[0m\u001b[0;34m.\u001b[0m\u001b[0m_create_graph_function\u001b[0m\u001b[0;34m(\u001b[0m\u001b[0margs\u001b[0m\u001b[0;34m,\u001b[0m \u001b[0mkwargs\u001b[0m\u001b[0;34m)\u001b[0m\u001b[0;34m\u001b[0m\u001b[0;34m\u001b[0m\u001b[0m\n\u001b[0m\u001b[1;32m   3362\u001b[0m           \u001b[0mself\u001b[0m\u001b[0;34m.\u001b[0m\u001b[0m_function_cache\u001b[0m\u001b[0;34m.\u001b[0m\u001b[0mprimary\u001b[0m\u001b[0;34m[\u001b[0m\u001b[0mcache_key\u001b[0m\u001b[0;34m]\u001b[0m \u001b[0;34m=\u001b[0m \u001b[0mgraph_function\u001b[0m\u001b[0;34m\u001b[0m\u001b[0;34m\u001b[0m\u001b[0m\n\u001b[1;32m   3363\u001b[0m \u001b[0;34m\u001b[0m\u001b[0m\n",
            "\u001b[0;32m/usr/local/lib/python3.6/dist-packages/tensorflow/python/eager/function.py\u001b[0m in \u001b[0;36m_create_graph_function\u001b[0;34m(self, args, kwargs, override_flat_arg_shapes)\u001b[0m\n\u001b[1;32m   3204\u001b[0m             \u001b[0marg_names\u001b[0m\u001b[0;34m=\u001b[0m\u001b[0marg_names\u001b[0m\u001b[0;34m,\u001b[0m\u001b[0;34m\u001b[0m\u001b[0;34m\u001b[0m\u001b[0m\n\u001b[1;32m   3205\u001b[0m             \u001b[0moverride_flat_arg_shapes\u001b[0m\u001b[0;34m=\u001b[0m\u001b[0moverride_flat_arg_shapes\u001b[0m\u001b[0;34m,\u001b[0m\u001b[0;34m\u001b[0m\u001b[0;34m\u001b[0m\u001b[0m\n\u001b[0;32m-> 3206\u001b[0;31m             capture_by_value=self._capture_by_value),\n\u001b[0m\u001b[1;32m   3207\u001b[0m         \u001b[0mself\u001b[0m\u001b[0;34m.\u001b[0m\u001b[0m_function_attributes\u001b[0m\u001b[0;34m,\u001b[0m\u001b[0;34m\u001b[0m\u001b[0;34m\u001b[0m\u001b[0m\n\u001b[1;32m   3208\u001b[0m         \u001b[0mfunction_spec\u001b[0m\u001b[0;34m=\u001b[0m\u001b[0mself\u001b[0m\u001b[0;34m.\u001b[0m\u001b[0mfunction_spec\u001b[0m\u001b[0;34m,\u001b[0m\u001b[0;34m\u001b[0m\u001b[0;34m\u001b[0m\u001b[0m\n",
            "\u001b[0;32m/usr/local/lib/python3.6/dist-packages/tensorflow/python/framework/func_graph.py\u001b[0m in \u001b[0;36mfunc_graph_from_py_func\u001b[0;34m(name, python_func, args, kwargs, signature, func_graph, autograph, autograph_options, add_control_dependencies, arg_names, op_return_value, collections, capture_by_value, override_flat_arg_shapes)\u001b[0m\n\u001b[1;32m    988\u001b[0m         \u001b[0m_\u001b[0m\u001b[0;34m,\u001b[0m \u001b[0moriginal_func\u001b[0m \u001b[0;34m=\u001b[0m \u001b[0mtf_decorator\u001b[0m\u001b[0;34m.\u001b[0m\u001b[0munwrap\u001b[0m\u001b[0;34m(\u001b[0m\u001b[0mpython_func\u001b[0m\u001b[0;34m)\u001b[0m\u001b[0;34m\u001b[0m\u001b[0;34m\u001b[0m\u001b[0m\n\u001b[1;32m    989\u001b[0m \u001b[0;34m\u001b[0m\u001b[0m\n\u001b[0;32m--> 990\u001b[0;31m       \u001b[0mfunc_outputs\u001b[0m \u001b[0;34m=\u001b[0m \u001b[0mpython_func\u001b[0m\u001b[0;34m(\u001b[0m\u001b[0;34m*\u001b[0m\u001b[0mfunc_args\u001b[0m\u001b[0;34m,\u001b[0m \u001b[0;34m**\u001b[0m\u001b[0mfunc_kwargs\u001b[0m\u001b[0;34m)\u001b[0m\u001b[0;34m\u001b[0m\u001b[0;34m\u001b[0m\u001b[0m\n\u001b[0m\u001b[1;32m    991\u001b[0m \u001b[0;34m\u001b[0m\u001b[0m\n\u001b[1;32m    992\u001b[0m       \u001b[0;31m# invariant: `func_outputs` contains only Tensors, CompositeTensors,\u001b[0m\u001b[0;34m\u001b[0m\u001b[0;34m\u001b[0m\u001b[0;34m\u001b[0m\u001b[0m\n",
            "\u001b[0;32m/usr/local/lib/python3.6/dist-packages/tensorflow/python/eager/def_function.py\u001b[0m in \u001b[0;36mwrapped_fn\u001b[0;34m(*args, **kwds)\u001b[0m\n\u001b[1;32m    632\u001b[0m             \u001b[0mxla_context\u001b[0m\u001b[0;34m.\u001b[0m\u001b[0mExit\u001b[0m\u001b[0;34m(\u001b[0m\u001b[0;34m)\u001b[0m\u001b[0;34m\u001b[0m\u001b[0;34m\u001b[0m\u001b[0m\n\u001b[1;32m    633\u001b[0m         \u001b[0;32melse\u001b[0m\u001b[0;34m:\u001b[0m\u001b[0;34m\u001b[0m\u001b[0;34m\u001b[0m\u001b[0m\n\u001b[0;32m--> 634\u001b[0;31m           \u001b[0mout\u001b[0m \u001b[0;34m=\u001b[0m \u001b[0mweak_wrapped_fn\u001b[0m\u001b[0;34m(\u001b[0m\u001b[0;34m)\u001b[0m\u001b[0;34m.\u001b[0m\u001b[0m__wrapped__\u001b[0m\u001b[0;34m(\u001b[0m\u001b[0;34m*\u001b[0m\u001b[0margs\u001b[0m\u001b[0;34m,\u001b[0m \u001b[0;34m**\u001b[0m\u001b[0mkwds\u001b[0m\u001b[0;34m)\u001b[0m\u001b[0;34m\u001b[0m\u001b[0;34m\u001b[0m\u001b[0m\n\u001b[0m\u001b[1;32m    635\u001b[0m         \u001b[0;32mreturn\u001b[0m \u001b[0mout\u001b[0m\u001b[0;34m\u001b[0m\u001b[0;34m\u001b[0m\u001b[0m\n\u001b[1;32m    636\u001b[0m \u001b[0;34m\u001b[0m\u001b[0m\n",
            "\u001b[0;32m/usr/local/lib/python3.6/dist-packages/tensorflow/python/framework/func_graph.py\u001b[0m in \u001b[0;36mwrapper\u001b[0;34m(*args, **kwargs)\u001b[0m\n\u001b[1;32m    975\u001b[0m           \u001b[0;32mexcept\u001b[0m \u001b[0mException\u001b[0m \u001b[0;32mas\u001b[0m \u001b[0me\u001b[0m\u001b[0;34m:\u001b[0m  \u001b[0;31m# pylint:disable=broad-except\u001b[0m\u001b[0;34m\u001b[0m\u001b[0;34m\u001b[0m\u001b[0m\n\u001b[1;32m    976\u001b[0m             \u001b[0;32mif\u001b[0m \u001b[0mhasattr\u001b[0m\u001b[0;34m(\u001b[0m\u001b[0me\u001b[0m\u001b[0;34m,\u001b[0m \u001b[0;34m\"ag_error_metadata\"\u001b[0m\u001b[0;34m)\u001b[0m\u001b[0;34m:\u001b[0m\u001b[0;34m\u001b[0m\u001b[0;34m\u001b[0m\u001b[0m\n\u001b[0;32m--> 977\u001b[0;31m               \u001b[0;32mraise\u001b[0m \u001b[0me\u001b[0m\u001b[0;34m.\u001b[0m\u001b[0mag_error_metadata\u001b[0m\u001b[0;34m.\u001b[0m\u001b[0mto_exception\u001b[0m\u001b[0;34m(\u001b[0m\u001b[0me\u001b[0m\u001b[0;34m)\u001b[0m\u001b[0;34m\u001b[0m\u001b[0;34m\u001b[0m\u001b[0m\n\u001b[0m\u001b[1;32m    978\u001b[0m             \u001b[0;32melse\u001b[0m\u001b[0;34m:\u001b[0m\u001b[0;34m\u001b[0m\u001b[0;34m\u001b[0m\u001b[0m\n\u001b[1;32m    979\u001b[0m               \u001b[0;32mraise\u001b[0m\u001b[0;34m\u001b[0m\u001b[0;34m\u001b[0m\u001b[0m\n",
            "\u001b[0;31mValueError\u001b[0m: in user code:\n\n    /usr/local/lib/python3.6/dist-packages/tensorflow/python/keras/engine/training.py:805 train_function  *\n        return step_function(self, iterator)\n    /usr/local/lib/python3.6/dist-packages/tensorflow/python/keras/engine/training.py:795 step_function  **\n        outputs = model.distribute_strategy.run(run_step, args=(data,))\n    /usr/local/lib/python3.6/dist-packages/tensorflow/python/distribute/distribute_lib.py:1259 run\n        return self._extended.call_for_each_replica(fn, args=args, kwargs=kwargs)\n    /usr/local/lib/python3.6/dist-packages/tensorflow/python/distribute/distribute_lib.py:2730 call_for_each_replica\n        return self._call_for_each_replica(fn, args, kwargs)\n    /usr/local/lib/python3.6/dist-packages/tensorflow/python/distribute/distribute_lib.py:3417 _call_for_each_replica\n        return fn(*args, **kwargs)\n    /usr/local/lib/python3.6/dist-packages/tensorflow/python/keras/engine/training.py:788 run_step  **\n        outputs = model.train_step(data)\n    /usr/local/lib/python3.6/dist-packages/tensorflow/python/keras/engine/training.py:754 train_step\n        y_pred = self(x, training=True)\n    /usr/local/lib/python3.6/dist-packages/tensorflow/python/keras/engine/base_layer.py:1012 __call__\n        outputs = call_fn(inputs, *args, **kwargs)\n    /usr/local/lib/python3.6/dist-packages/tensorflow/python/keras/engine/functional.py:425 call\n        inputs, training=training, mask=mask)\n    /usr/local/lib/python3.6/dist-packages/tensorflow/python/keras/engine/functional.py:560 _run_internal_graph\n        outputs = node.layer(*args, **kwargs)\n    /usr/local/lib/python3.6/dist-packages/tensorflow/python/keras/engine/base_layer.py:998 __call__\n        input_spec.assert_input_compatibility(self.input_spec, inputs, self.name)\n    /usr/local/lib/python3.6/dist-packages/tensorflow/python/keras/engine/input_spec.py:274 assert_input_compatibility\n        ', found shape=' + display_shape(x.shape))\n\n    ValueError: Input 0 is incompatible with layer vgg16: expected shape=(None, 400, 700, 3), found shape=(None, 22)\n"
          ]
        }
      ]
    },
    {
      "cell_type": "code",
      "metadata": {
        "id": "U0DcQE5ny1PG"
      },
      "source": [
        "#Function for creating the result in a csv file\r\n",
        "\r\n",
        "from datetime import datetime\r\n",
        "\r\n",
        "def create_csv(results, results_dir='./'):\r\n",
        "\r\n",
        "    csv_fname = 'results_'\r\n",
        "    csv_fname += datetime.now().strftime('%b%d_%H-%M-%S') + '.csv'\r\n",
        "\r\n",
        "    with open(os.path.join(results_dir, csv_fname), 'w') as f:\r\n",
        "\r\n",
        "        f.write('Id,Category\\n')\r\n",
        "\r\n",
        "        for key, value in results.items():\r\n",
        "            f.write(key + ',' + str(value) + '\\n')"
      ],
      "execution_count": null,
      "outputs": []
    },
    {
      "cell_type": "code",
      "metadata": {
        "id": "WPp8WTQdzdjk"
      },
      "source": [
        "with open(dataset_QA) as f:\r\n",
        "    test_dict = json.load(f)\r\n",
        "\r\n",
        "\r\n",
        "MAX_NUM_SENTENCES = 70000\r\n",
        "MAX_NUM_WORDS = 20000\r\n",
        "\r\n",
        "test_questions = []\r\n",
        "\r\n",
        "# Simplify the dataset\r\n",
        "MAX_LEN = 25 # words\r\n",
        "\r\n",
        "# Read all lines in translation dataset\r\n",
        "count = 0\r\n",
        "\r\n",
        "for key in test_dict:\r\n",
        "\r\n",
        "#for line in open(os.path.join('/content/drive/My Drive', 'ita.txt'), encoding='utf-8'):\r\n",
        "    \r\n",
        "    if count > MAX_NUM_SENTENCES:\r\n",
        "        break\r\n",
        "\r\n",
        "        \r\n",
        "    question = test_dict[key]['question']\r\n",
        "\r\n",
        "    \r\n",
        "    if (len(question.split(' ')) > MAX_LEN):\r\n",
        "      continue\r\n",
        "    \r\n",
        "    question = question + ' <eos>'\r\n",
        "       \r\n",
        "    test_questions.append(question)\r\n",
        "    \r\n",
        "    count += 1\r\n",
        "\r\n",
        "test_tokenized = ita_tokenizer.texts_to_sequences(test_questions)\r\n",
        "\r\n",
        "# Pad to max italian sentence length\r\n",
        "test_encoder_inputs = pad_sequences(test_tokenized, maxlen=max_ita_length)\r\n",
        "\r\n",
        "print(\"Italian encoder inputs shape:\", test_encoder_inputs.shape)\r\n",
        "\r\n",
        "count = 0\r\n",
        "for key in test_dict:\r\n",
        "    test_dict[key]['question'] = test_encoder_inputs[count]\r\n",
        "    count+=1\r\n",
        " "
      ],
      "execution_count": null,
      "outputs": []
    },
    {
      "cell_type": "code",
      "metadata": {
        "id": "_2VwCP5J38U0"
      },
      "source": [
        "#Prediction computation done one image at time\r\n",
        "\r\n",
        "#model.load_weights(filepath='C:\\\\Users\\\\ASUS\\\\Documents\\\\Università\\\\ANNDL\\\\A2NDLKaggle\\\\weights\\\\FC_Nov14_15-02-54\\\\ckpts\\\\cp.ckpt')\r\n",
        "\r\n",
        "from PIL import Image\r\n",
        "\r\n",
        "results = {}\r\n",
        "for key in test_dict:\r\n",
        "    \r\n",
        "    image = tf.keras.preprocessing.image.load_img(test_dir+image_name,target_size=(img_h,img_w))\r\n",
        "    # Read Image\r\n",
        "    element = test_dict[key]\r\n",
        "    image = element['image_id']\r\n",
        "    img = Image.open(os.path.join(self.dataset_dir, 'Images', image + '.png'))\r\n",
        "    #mask = rme.read_rgb_mask(os.path.join(self.dataset_dir, 'Masks', curr_filename + '.png'))\r\n",
        "\r\n",
        "    img = img.convert('RGB')\r\n",
        "    \r\n",
        "    # Resize image and mask\r\n",
        "    img = img.resize((img_h,img_w))\r\n",
        "    img_arr = np.array(img)\r\n",
        "    question = element['question']\r\n",
        "\r\n",
        "    pair = {\"input_1\": img_arr, \"input_2\": question}  \r\n",
        "    \r\n",
        "    predictions = model.predict_classes(pair)\r\n",
        "    results[key] = predictions[0]\r\n",
        "\r\n",
        "create_csv(results)\r\n",
        "print (results)"
      ],
      "execution_count": null,
      "outputs": []
    },
    {
      "cell_type": "code",
      "metadata": {
        "id": "vqIZ5agMKf6E"
      },
      "source": [
        "model.inputs"
      ],
      "execution_count": null,
      "outputs": []
    },
    {
      "cell_type": "code",
      "metadata": {
        "id": "u8xkUy2lK2Cc"
      },
      "source": [
        "model.save_weights(os.path.join(os.getcwd(),'multiclass_exps/Manual/ckpts/cp.ckpt'))\r\n"
      ],
      "execution_count": null,
      "outputs": []
    },
    {
      "cell_type": "code",
      "metadata": {
        "id": "NGzh16WTnFJW",
        "colab": {
          "base_uri": "https://localhost:8080/"
        },
        "outputId": "554b4df2-e3ef-464e-9083-3326b6dd5822"
      },
      "source": [
        "train_dataset"
      ],
      "execution_count": 177,
      "outputs": [
        {
          "output_type": "execute_result",
          "data": {
            "text/plain": [
              "<RepeatDataset shapes: ({vgg16_input: (None, 400, 700, 3), model_input: (None, 22)}, (None, 58)), types: ({vgg16_input: tf.float32, model_input: tf.float32}, tf.float32)>"
            ]
          },
          "metadata": {
            "tags": []
          },
          "execution_count": 177
        }
      ]
    }
  ]
}